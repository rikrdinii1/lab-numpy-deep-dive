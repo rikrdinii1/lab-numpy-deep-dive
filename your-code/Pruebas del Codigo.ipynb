{
 "cells": [
  {
   "cell_type": "code",
   "execution_count": 1,
   "metadata": {},
   "outputs": [],
   "source": [
    "import numpy as np"
   ]
  },
  {
   "cell_type": "code",
   "execution_count": 2,
   "metadata": {},
   "outputs": [
    {
     "name": "stdout",
     "output_type": "stream",
     "text": [
      "1.18.1\n"
     ]
    }
   ],
   "source": [
    "print(np.__version__)"
   ]
  },
  {
   "cell_type": "code",
   "execution_count": 33,
   "metadata": {},
   "outputs": [],
   "source": [
    "a = np.random.rand(2,3,5)"
   ]
  },
  {
   "cell_type": "code",
   "execution_count": 34,
   "metadata": {},
   "outputs": [
    {
     "name": "stdout",
     "output_type": "stream",
     "text": [
      "[[[0.14191737 0.00136571 0.39849946 0.16524998 0.54878359]\n",
      "  [0.17309166 0.58862771 0.18905959 0.06573976 0.69160061]\n",
      "  [0.81519098 0.11541216 0.04612078 0.75058299 0.46441832]]\n",
      "\n",
      " [[0.83346164 0.54582124 0.49915563 0.12308266 0.32154751]\n",
      "  [0.9833765  0.20799656 0.06193473 0.04242374 0.71927731]\n",
      "  [0.8431568  0.36658233 0.66536669 0.73276077 0.57510144]]]\n"
     ]
    }
   ],
   "source": [
    "print(a)"
   ]
  },
  {
   "cell_type": "code",
   "execution_count": 35,
   "metadata": {},
   "outputs": [],
   "source": [
    "b = np.random.rand(5,3,2)"
   ]
  },
  {
   "cell_type": "code",
   "execution_count": 36,
   "metadata": {},
   "outputs": [
    {
     "name": "stdout",
     "output_type": "stream",
     "text": [
      "[[[0.17791149 0.51945375]\n",
      "  [0.21772652 0.39568867]\n",
      "  [0.19121591 0.83955476]]\n",
      "\n",
      " [[0.94633021 0.48474529]\n",
      "  [0.42135333 0.60637074]\n",
      "  [0.8368353  0.46675616]]\n",
      "\n",
      " [[0.2796681  0.20487417]\n",
      "  [0.95384687 0.46831543]\n",
      "  [0.78370585 0.40904908]]\n",
      "\n",
      " [[0.44667648 0.1547462 ]\n",
      "  [0.56420505 0.9719901 ]\n",
      "  [0.18859865 0.64007073]]\n",
      "\n",
      " [[0.70465043 0.5961797 ]\n",
      "  [0.76072129 0.95531086]\n",
      "  [0.23311596 0.69518354]]]\n"
     ]
    }
   ],
   "source": [
    "print(b)"
   ]
  },
  {
   "cell_type": "code",
   "execution_count": 37,
   "metadata": {},
   "outputs": [
    {
     "data": {
      "text/plain": [
       "False"
      ]
     },
     "execution_count": 37,
     "metadata": {},
     "output_type": "execute_result"
    }
   ],
   "source": [
    "a.shape == b.shape"
   ]
  },
  {
   "cell_type": "code",
   "execution_count": 38,
   "metadata": {},
   "outputs": [],
   "source": [
    "c = b.T"
   ]
  },
  {
   "cell_type": "code",
   "execution_count": 39,
   "metadata": {},
   "outputs": [
    {
     "name": "stdout",
     "output_type": "stream",
     "text": [
      "[[[0.17791149 0.94633021 0.2796681  0.44667648 0.70465043]\n",
      "  [0.21772652 0.42135333 0.95384687 0.56420505 0.76072129]\n",
      "  [0.19121591 0.8368353  0.78370585 0.18859865 0.23311596]]\n",
      "\n",
      " [[0.51945375 0.48474529 0.20487417 0.1547462  0.5961797 ]\n",
      "  [0.39568867 0.60637074 0.46831543 0.9719901  0.95531086]\n",
      "  [0.83955476 0.46675616 0.40904908 0.64007073 0.69518354]]]\n"
     ]
    }
   ],
   "source": [
    "print(c)"
   ]
  },
  {
   "cell_type": "code",
   "execution_count": 40,
   "metadata": {},
   "outputs": [
    {
     "data": {
      "text/plain": [
       "array([[[0.31982886, 0.94769592, 0.67816757, 0.61192647, 1.25343402],\n",
       "        [0.39081817, 1.00998104, 1.14290646, 0.62994482, 1.4523219 ],\n",
       "        [1.00640688, 0.95224746, 0.82982663, 0.93918164, 0.69753428]],\n",
       "\n",
       "       [[1.35291539, 1.03056653, 0.7040298 , 0.27782886, 0.91772722],\n",
       "        [1.37906517, 0.8143673 , 0.53025016, 1.01441384, 1.67458817],\n",
       "        [1.68271156, 0.83333849, 1.07441577, 1.3728315 , 1.27028499]]])"
      ]
     },
     "execution_count": 40,
     "metadata": {},
     "output_type": "execute_result"
    }
   ],
   "source": [
    "d = a+c\n",
    "d"
   ]
  },
  {
   "cell_type": "code",
   "execution_count": 41,
   "metadata": {},
   "outputs": [
    {
     "name": "stdout",
     "output_type": "stream",
     "text": [
      "[[[0.14191737 0.00136571 0.39849946 0.16524998 0.54878359]\n",
      "  [0.17309166 0.58862771 0.18905959 0.06573976 0.69160061]\n",
      "  [0.81519098 0.11541216 0.04612078 0.75058299 0.46441832]]\n",
      "\n",
      " [[0.83346164 0.54582124 0.49915563 0.12308266 0.32154751]\n",
      "  [0.9833765  0.20799656 0.06193473 0.04242374 0.71927731]\n",
      "  [0.8431568  0.36658233 0.66536669 0.73276077 0.57510144]]]\n",
      "[[[0.31982886 0.94769592 0.67816757 0.61192647 1.25343402]\n",
      "  [0.39081817 1.00998104 1.14290646 0.62994482 1.4523219 ]\n",
      "  [1.00640688 0.95224746 0.82982663 0.93918164 0.69753428]]\n",
      "\n",
      " [[1.35291539 1.03056653 0.7040298  0.27782886 0.91772722]\n",
      "  [1.37906517 0.8143673  0.53025016 1.01441384 1.67458817]\n",
      "  [1.68271156 0.83333849 1.07441577 1.3728315  1.27028499]]]\n"
     ]
    }
   ],
   "source": [
    "print(a)\n",
    "print(d)"
   ]
  },
  {
   "cell_type": "code",
   "execution_count": 42,
   "metadata": {},
   "outputs": [
    {
     "data": {
      "text/plain": [
       "array([[[0.02524873, 0.00129241, 0.11144759, 0.07381328, 0.38670059],\n",
       "        [0.03768664, 0.24802025, 0.1803339 , 0.03709071, 0.52611531],\n",
       "        [0.15587748, 0.09658097, 0.03614513, 0.14155894, 0.10826332]],\n",
       "\n",
       "       [[0.43294478, 0.26458427, 0.1022641 , 0.01904657, 0.1917001 ],\n",
       "        [0.38911094, 0.12612303, 0.02900499, 0.04123545, 0.68713343],\n",
       "        [0.7078763 , 0.17110456, 0.27216763, 0.46901872, 0.39980106]]])"
      ]
     },
     "execution_count": 42,
     "metadata": {},
     "output_type": "execute_result"
    }
   ],
   "source": [
    "e = a*c\n",
    "e"
   ]
  },
  {
   "cell_type": "code",
   "execution_count": 44,
   "metadata": {},
   "outputs": [
    {
     "data": {
      "text/plain": [
       "True"
      ]
     },
     "execution_count": 44,
     "metadata": {},
     "output_type": "execute_result"
    }
   ],
   "source": [
    "e == a\n",
    "e.shape == a.shape"
   ]
  },
  {
   "cell_type": "code",
   "execution_count": 45,
   "metadata": {},
   "outputs": [
    {
     "name": "stdout",
     "output_type": "stream",
     "text": [
      "1.6827115594418194 0.9597185620293062 0.27782885786751466\n"
     ]
    }
   ],
   "source": [
    "d_min = d.min()\n",
    "d_max = d.max()\n",
    "d_mean = d.mean()\n",
    "\n",
    "print(d_max,d_mean,d_min)"
   ]
  },
  {
   "cell_type": "code",
   "execution_count": 47,
   "metadata": {},
   "outputs": [
    {
     "ename": "TypeError",
     "evalue": "only integer scalar arrays can be converted to a scalar index",
     "output_type": "error",
     "traceback": [
      "\u001b[1;31m---------------------------------------------------------------------------\u001b[0m",
      "\u001b[1;31mTypeError\u001b[0m                                 Traceback (most recent call last)",
      "\u001b[1;32m<ipython-input-47-32b71aa3dce8>\u001b[0m in \u001b[0;36m<module>\u001b[1;34m\u001b[0m\n\u001b[1;32m----> 1\u001b[1;33m \u001b[0mf\u001b[0m \u001b[1;33m=\u001b[0m \u001b[0mnp\u001b[0m\u001b[1;33m.\u001b[0m\u001b[0mempty\u001b[0m\u001b[1;33m(\u001b[0m\u001b[0md\u001b[0m\u001b[1;33m)\u001b[0m\u001b[1;33m\u001b[0m\u001b[1;33m\u001b[0m\u001b[0m\n\u001b[0m\u001b[0;32m      2\u001b[0m \u001b[0mf\u001b[0m\u001b[1;33m\u001b[0m\u001b[1;33m\u001b[0m\u001b[0m\n",
      "\u001b[1;31mTypeError\u001b[0m: only integer scalar arrays can be converted to a scalar index"
     ]
    }
   ],
   "source": [
    "f = np.empty(d)\n",
    "f"
   ]
  },
  {
   "cell_type": "code",
   "execution_count": null,
   "metadata": {},
   "outputs": [],
   "source": []
  }
 ],
 "metadata": {
  "kernelspec": {
   "display_name": "Python 3",
   "language": "python",
   "name": "python3"
  },
  "language_info": {
   "codemirror_mode": {
    "name": "ipython",
    "version": 3
   },
   "file_extension": ".py",
   "mimetype": "text/x-python",
   "name": "python",
   "nbconvert_exporter": "python",
   "pygments_lexer": "ipython3",
   "version": "3.7.6"
  },
  "toc": {
   "base_numbering": 1,
   "nav_menu": {},
   "number_sections": true,
   "sideBar": true,
   "skip_h1_title": false,
   "title_cell": "Table of Contents",
   "title_sidebar": "Contents",
   "toc_cell": false,
   "toc_position": {},
   "toc_section_display": true,
   "toc_window_display": false
  }
 },
 "nbformat": 4,
 "nbformat_minor": 4
}
